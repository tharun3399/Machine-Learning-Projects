{
 "cells": [
  {
   "cell_type": "markdown",
   "id": "7227bbc1",
   "metadata": {},
   "source": [
    "# File Creation for Trained Linear Model"
   ]
  },
  {
   "cell_type": "code",
   "execution_count": 31,
   "id": "2fb3053a",
   "metadata": {},
   "outputs": [
    {
     "name": "stderr",
     "output_type": "stream",
     "text": [
      "C:\\Users\\asus\\AppData\\Local\\Programs\\Python\\Python311\\Lib\\site-packages\\sklearn\\base.py:439: UserWarning: X does not have valid feature names, but LinearRegression was fitted with feature names\n",
      "  warnings.warn(\n"
     ]
    },
    {
     "data": {
      "text/plain": [
       "array([2081643.83561644])"
      ]
     },
     "execution_count": 31,
     "metadata": {},
     "output_type": "execute_result"
    }
   ],
   "source": [
    "import pandas as pd\n",
    "import numpy as np\n",
    "from sklearn import linear_model\n",
    "import matplotlib.pyplot as plt\n",
    "import joblib \n",
    "df=pd.read_csv('homeprices.csv')\n",
    "model=linear_model.LinearRegression()\n",
    "model.fit(df[['area']],df.price)\n",
    "joblib.dump(model,'Area_Model')\n",
    "f=joblib.load('Area_Model')\n",
    "f.predict(pd.DataFrame([14000]))"
   ]
  }
 ],
 "metadata": {
  "kernelspec": {
   "display_name": "Python 3 (ipykernel)",
   "language": "python",
   "name": "python3"
  },
  "language_info": {
   "codemirror_mode": {
    "name": "ipython",
    "version": 3
   },
   "file_extension": ".py",
   "mimetype": "text/x-python",
   "name": "python",
   "nbconvert_exporter": "python",
   "pygments_lexer": "ipython3",
   "version": "3.11.5"
  }
 },
 "nbformat": 4,
 "nbformat_minor": 5
}
